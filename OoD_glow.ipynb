{
 "cells": [
  {
   "cell_type": "code",
   "execution_count": 23,
   "metadata": {},
   "outputs": [
    {
     "name": "stdout",
     "output_type": "stream",
     "text": [
      "{'K': 32, 'L': 3, 'LU_decomposed': True, 'actnorm_scale': 1.0, 'augment': True, 'batch_size': 64, 'cuda': True, 'dataroot': './', 'dataset': 'cifar10', 'download': True, 'epochs': 250, 'eval_batch_size': 512, 'flow_coupling': 'affine', 'flow_permutation': 'invconv', 'fresh': False, 'gpuid': 3, 'hidden_channels': 512, 'learn_top': True, 'lr': 0.0005, 'max_grad_clip': 0, 'max_grad_norm': 0, 'n_init_batches': 8, 'n_workers': 6, 'output_dir': 'output/cifar_label_dropout/', 'saved_model': '', 'saved_optimizer': '', 'seed': 0, 'warmup': 5, 'warmup_steps': 4000, 'y_condition': True, 'y_weight': 0.01}\n",
      "Files already downloaded and verified\n",
      "Files already downloaded and verified\n",
      "Using downloaded and verified file: data/SVHN/train_32x32.mat\n",
      "Using downloaded and verified file: data/SVHN/test_32x32.mat\n"
     ]
    }
   ],
   "source": [
    "import json\n",
    "\n",
    "import torch\n",
    "import matplotlib.pyplot as plt\n",
    "import seaborn as sns\n",
    "import numpy as np\n",
    "sns.set()\n",
    "\n",
    "from datasets import get_CIFAR10, get_SVHN\n",
    "from model_eval import Glow\n",
    "\n",
    "torch.cuda.set_device(0)\n",
    "device = torch.device(\"cuda:0\")\n",
    "\n",
    "output_folder = 'output/cifar_label_dropout/'\n",
    "# output_folder = 'output/'\n",
    "model_name = 'glow_model_143.pth'\n",
    "\n",
    "with open(output_folder + 'hparams.json') as json_file:  \n",
    "    hparams = json.load(json_file)\n",
    "    \n",
    "print(hparams)\n",
    "\n",
    "image_shape, num_classes, train_cifar, test_cifar = get_CIFAR10(hparams['augment'], hparams['dataroot'], hparams['download'])\n",
    "image_shape, num_classes, train_svhn, test_svhn = get_SVHN(hparams['augment'], hparams['dataroot'], hparams['download'])\n",
    "\n",
    "model = Glow(image_shape, hparams['hidden_channels'], hparams['K'], hparams['L'], hparams['actnorm_scale'],\n",
    "             hparams['flow_permutation'], hparams['flow_coupling'], hparams['LU_decomposed'], num_classes,\n",
    "             hparams['learn_top'], hparams['y_condition'])\n",
    "\n",
    "model.load_state_dict(torch.load(output_folder + model_name))\n",
    "model.set_actnorm_init()\n",
    "\n",
    "model = model.to(device)\n",
    "# model = model.eval()"
   ]
  },
  {
   "cell_type": "code",
   "execution_count": 12,
   "metadata": {
    "scrolled": false
   },
   "outputs": [
    {
     "name": "stdout",
     "output_type": "stream",
     "text": [
      "{'K': 32, 'L': 3, 'LU_decomposed': True, 'actnorm_scale': 1.0, 'augment': True, 'batch_size': 64, 'cuda': True, 'dataroot': './', 'dataset': 'cifar10', 'download': True, 'epochs': 250, 'eval_batch_size': 512, 'flow_coupling': 'affine', 'flow_permutation': 'invconv', 'fresh': False, 'gpuid': 0, 'hidden_channels': 512, 'learn_top': True, 'lr': 0.0005, 'max_grad_clip': 0, 'max_grad_norm': 0, 'n_init_batches': 8, 'n_workers': 6, 'output_dir': 'output/cifar_dropout_split', 'saved_model': '', 'saved_optimizer': '', 'seed': 0, 'warmup': 5, 'warmup_steps': 4000, 'y_condition': True, 'y_weight': 0.01}\n",
      "Files already downloaded and verified\n",
      "Files already downloaded and verified\n",
      "Using downloaded and verified file: data/SVHN/train_32x32.mat\n",
      "Using downloaded and verified file: data/SVHN/test_32x32.mat\n"
     ]
    }
   ],
   "source": [
    "import json\n",
    "\n",
    "import torch\n",
    "import matplotlib.pyplot as plt\n",
    "import seaborn as sns\n",
    "import numpy as np\n",
    "sns.set()\n",
    "\n",
    "from datasets import get_CIFAR10, get_SVHN\n",
    "from model_info_eval import Glow\n",
    "\n",
    "torch.cuda.set_device(0)\n",
    "device = torch.device(\"cuda:0\")\n",
    "\n",
    "output_folder = 'output/'\n",
    "model_name = 'glow_model_split_82.pth'\n",
    "\n",
    "with open(output_folder + 'hparams.json') as json_file:  \n",
    "    hparams = json.load(json_file)\n",
    "    \n",
    "print(hparams)\n",
    "\n",
    "image_shape, num_classes, train_cifar, test_cifar = get_CIFAR10(hparams['augment'], hparams['dataroot'], hparams['download'])\n",
    "image_shape, num_classes, train_svhn, test_svhn = get_SVHN(hparams['augment'], hparams['dataroot'], hparams['download'])\n",
    "\n",
    "model = Glow(image_shape, hparams['hidden_channels'], hparams['K'], hparams['L'], hparams['actnorm_scale'],\n",
    "             hparams['flow_permutation'], hparams['flow_coupling'], hparams['LU_decomposed'], num_classes,\n",
    "             hparams['learn_top'], hparams['y_condition'])\n",
    "\n",
    "model.load_state_dict(torch.load(output_folder + model_name))\n",
    "model.set_actnorm_init()\n",
    "\n",
    "model = model.to(device)\n",
    "model = model.eval()"
   ]
  },
  {
   "cell_type": "code",
   "execution_count": 21,
   "metadata": {},
   "outputs": [
    {
     "name": "stdout",
     "output_type": "stream",
     "text": [
      "{'K': 32, 'L': 3, 'LU_decomposed': True, 'actnorm_scale': 1.0, 'augment': True, 'batch_size': 64, 'cuda': True, 'dataroot': './', 'dataset': 'svhn', 'download': True, 'epochs': 250, 'eval_batch_size': 512, 'flow_coupling': 'affine', 'flow_permutation': 'invconv', 'fresh': False, 'gpuid': 3, 'hidden_channels': 512, 'learn_top': True, 'lr': 0.0005, 'max_grad_clip': 0, 'max_grad_norm': 0, 'n_init_batches': 8, 'n_workers': 6, 'output_dir': 'output/svhn', 'saved_model': '', 'saved_optimizer': '', 'seed': 0, 'warmup': 5, 'warmup_steps': 4000, 'y_condition': True, 'y_weight': 0.01}\n",
      "Files already downloaded and verified\n",
      "Files already downloaded and verified\n",
      "Using downloaded and verified file: data/SVHN/train_32x32.mat\n",
      "Using downloaded and verified file: data/SVHN/test_32x32.mat\n"
     ]
    }
   ],
   "source": [
    "import json\n",
    "\n",
    "import torch\n",
    "import matplotlib.pyplot as plt\n",
    "import seaborn as sns\n",
    "import numpy as np\n",
    "sns.set()\n",
    "\n",
    "from datasets import get_CIFAR10, get_SVHN\n",
    "from model_nodropout_eval import Glow\n",
    "\n",
    "torch.cuda.set_device(0)\n",
    "device = torch.device(\"cuda:0\")\n",
    "\n",
    "# output_folder = 'output/cifar_label_nodropout/'\n",
    "output_folder = 'output/svhn/'\n",
    "model_name = 'glow_model_151.pth'\n",
    "\n",
    "with open(output_folder + 'hparams.json') as json_file:  \n",
    "    hparams = json.load(json_file)\n",
    "    \n",
    "print(hparams)\n",
    "\n",
    "image_shape, num_classes, train_cifar, test_cifar = get_CIFAR10(hparams['augment'], hparams['dataroot'], hparams['download'])\n",
    "image_shape, num_classes, train_svhn, test_svhn = get_SVHN(hparams['augment'], hparams['dataroot'], hparams['download'])\n",
    "\n",
    "model = Glow(image_shape, hparams['hidden_channels'], hparams['K'], hparams['L'], hparams['actnorm_scale'],\n",
    "             hparams['flow_permutation'], hparams['flow_coupling'], hparams['LU_decomposed'], num_classes,\n",
    "             hparams['learn_top'], hparams['y_condition'])\n",
    "\n",
    "model.load_state_dict(torch.load(output_folder + model_name))\n",
    "model.set_actnorm_init()\n",
    "\n",
    "model = model.to(device)\n",
    "model = model.eval()"
   ]
  },
  {
   "cell_type": "code",
   "execution_count": 2,
   "metadata": {},
   "outputs": [],
   "source": [
    "def compute_nll(dataset, model):\n",
    "    dataloader = torch.utils.data.DataLoader(dataset, batch_size=512, num_workers=6)\n",
    "    \n",
    "    nlls = []\n",
    "    for x,y in dataloader:\n",
    "        x = x.to(device)\n",
    "        \n",
    "        if hparams['y_condition']:\n",
    "            y = y.to(device)\n",
    "        else:\n",
    "            y = None\n",
    "        \n",
    "        with torch.no_grad():\n",
    "            _, nll, _, _ = model(x, y_onehot=y)\n",
    "            nlls.append(nll)\n",
    "        \n",
    "    return torch.cat(nlls).cpu()"
   ]
  },
  {
   "cell_type": "code",
   "execution_count": 5,
   "metadata": {},
   "outputs": [],
   "source": [
    "def compute_logpz(dataset, model):\n",
    "    dataloader = torch.utils.data.DataLoader(dataset, batch_size=512, num_workers=6)\n",
    "    \n",
    "    logpzs = []\n",
    "    for x,y in dataloader:\n",
    "        x = x.to(device)\n",
    "        \n",
    "        if hparams['y_condition']:\n",
    "            y = y.to(device)\n",
    "        else:\n",
    "            y = None\n",
    "        \n",
    "        with torch.no_grad():\n",
    "            _, _, _, logpz = model(x, y_onehot=y)\n",
    "            logpzs.append(logpz)\n",
    "        \n",
    "    return torch.cat(logpzs).cpu()"
   ]
  },
  {
   "cell_type": "code",
   "execution_count": 15,
   "metadata": {},
   "outputs": [],
   "source": [
    "def compute_acc(dataset, model):\n",
    "    dataloader = torch.utils.data.DataLoader(dataset, batch_size=512, num_workers=6)\n",
    "    \n",
    "    correct = 0\n",
    "    num_samples = 0\n",
    "    for x,y in dataloader:\n",
    "        x = x.to(device)\n",
    "        \n",
    "        if hparams['y_condition']:\n",
    "            y = y.to(device)\n",
    "        else:\n",
    "            y = None\n",
    "        \n",
    "        with torch.no_grad():\n",
    "            _, _, y_logits, _ = model(x, y_onehot=y)\n",
    "            predicted_label = torch.argmax(y_logits, dim=1).cpu()\n",
    "            true_label = torch.argmax(y, dim=1).cpu()\n",
    "            inds, = np.where(predicted_label == true_label)\n",
    "            correct += len(inds)\n",
    "            num_samples += y.shape[0]\n",
    "        \n",
    "    return correct / num_samples"
   ]
  },
  {
   "cell_type": "code",
   "execution_count": 3,
   "metadata": {},
   "outputs": [],
   "source": [
    "def compute_acc_info(dataset, model):\n",
    "    dataloader = torch.utils.data.DataLoader(dataset, batch_size=512, num_workers=6)\n",
    "    \n",
    "    correct = 0\n",
    "    num_samples = 0\n",
    "    for x,y in dataloader:\n",
    "        x = x.to(device)\n",
    "        \n",
    "        if hparams['y_condition']:\n",
    "            y = y.to(device)\n",
    "        else:\n",
    "            y = None\n",
    "        \n",
    "        with torch.no_grad():\n",
    "            _, _, y_logits, _, _ = model(x, y_onehot=y)\n",
    "            predicted_label = torch.argmax(y_logits, dim=1).cpu()\n",
    "            true_label = torch.argmax(y, dim=1).cpu()\n",
    "            inds, = np.where(predicted_label == true_label)\n",
    "            correct += len(inds)\n",
    "            num_samples += y.shape[0]\n",
    "        \n",
    "    return correct / num_samples"
   ]
  },
  {
   "cell_type": "code",
   "execution_count": 13,
   "metadata": {},
   "outputs": [
    {
     "name": "stdout",
     "output_type": "stream",
     "text": [
      "0.1425\n"
     ]
    }
   ],
   "source": [
    "# dropout + split: epoch 82\n",
    "accuracy = compute_acc_info(test_cifar, model)\n",
    "print(accuracy)\n",
    "\n",
    "# epoch 19: 0.1483\n",
    "# epoch 20: 0.1448\n",
    "# epoch 82: 0.1425"
   ]
  },
  {
   "cell_type": "code",
   "execution_count": 16,
   "metadata": {
    "scrolled": false
   },
   "outputs": [
    {
     "name": "stdout",
     "output_type": "stream",
     "text": [
      "0.2082\n"
     ]
    }
   ],
   "source": [
    "# dropout with weight: epoch 131\n",
    "accuracy = compute_acc(test_cifar, model)\n",
    "print(accuracy)\n",
    "# epoch 27: 0.1952\n",
    "# epoch 38: 0.1964\n",
    "# epoch 50: 0.2001\n",
    "# epoch 77: 0.2083\n",
    "# epoch 100: 0.2141\n",
    "# epoch 131: 0.2082"
   ]
  },
  {
   "cell_type": "code",
   "execution_count": 18,
   "metadata": {},
   "outputs": [
    {
     "name": "stdout",
     "output_type": "stream",
     "text": [
      "0.2232\n"
     ]
    }
   ],
   "source": [
    "# dropout without weight ('additive'): epoch \n",
    "accuracy = compute_acc(test_cifar, model)\n",
    "print(accuracy)\n",
    "# epoch 19: 0.2156\n",
    "# epoch 21: 0.2122\n",
    "# epoch 46: 0.2007\n",
    "# epoch 111: 0.2081"
   ]
  },
  {
   "cell_type": "code",
   "execution_count": 24,
   "metadata": {},
   "outputs": [
    {
     "name": "stdout",
     "output_type": "stream",
     "text": [
      "0.18206\n"
     ]
    }
   ],
   "source": [
    "# dropout without weight: epoch 143, not eval mode\n",
    "accuracy = compute_acc(train_cifar, model)\n",
    "print(accuracy)\n"
   ]
  },
  {
   "cell_type": "code",
   "execution_count": 25,
   "metadata": {},
   "outputs": [
    {
     "name": "stdout",
     "output_type": "stream",
     "text": [
      "0.22082\n"
     ]
    }
   ],
   "source": [
    "model = model.eval()\n",
    "# dropout without weight: epoch 143\n",
    "accuracy = compute_acc(train_cifar, model)\n",
    "print(accuracy)"
   ]
  },
  {
   "cell_type": "code",
   "execution_count": 18,
   "metadata": {},
   "outputs": [
    {
     "name": "stdout",
     "output_type": "stream",
     "text": [
      "0.2019\n"
     ]
    }
   ],
   "source": [
    "# dropout without weight: epoch 41\n",
    "accuracy = compute_acc(test_cifar, model)\n",
    "print(accuracy)\n",
    "# epoch 30: 0.1948\n",
    "# epoch 41: 0.2019\n",
    "# epoch 134: 0.2232"
   ]
  },
  {
   "cell_type": "code",
   "execution_count": 20,
   "metadata": {},
   "outputs": [
    {
     "name": "stdout",
     "output_type": "stream",
     "text": [
      "0.2329\n"
     ]
    }
   ],
   "source": [
    "# Without dropout epoch 198\n",
    "accuracy = compute_acc(test_cifar, model)\n",
    "print(accuracy)"
   ]
  },
  {
   "cell_type": "code",
   "execution_count": 22,
   "metadata": {},
   "outputs": [
    {
     "name": "stdout",
     "output_type": "stream",
     "text": [
      "0.196220036877689\n"
     ]
    }
   ],
   "source": [
    "# SVHN without dropout epoch 151\n",
    "accuracy = compute_acc(test_svhn, model)\n",
    "print(accuracy)"
   ]
  },
  {
   "cell_type": "code",
   "execution_count": 49,
   "metadata": {
    "scrolled": true
   },
   "outputs": [
    {
     "name": "stdout",
     "output_type": "stream",
     "text": [
      "CIFAR NLL tensor(4.9125)\n",
      "SVHN NLL tensor(3.6847)\n"
     ]
    }
   ],
   "source": [
    "cifar_nll = compute_nll(test_cifar, model)\n",
    "svhn_nll = compute_nll(test_svhn, model)\n",
    "cifar_nll_train = compute_nll(train_cifar, model)\n",
    "\n",
    "print(\"CIFAR NLL\", torch.mean(cifar_nll))\n",
    "print(\"SVHN NLL\", torch.mean(svhn_nll))"
   ]
  },
  {
   "cell_type": "code",
   "execution_count": 47,
   "metadata": {},
   "outputs": [
    {
     "name": "stdout",
     "output_type": "stream",
     "text": [
      "CIFAR log p(z) tensor(-1093.3247)\n",
      "SVHN log p(z) tensor(-1104.1171)\n"
     ]
    }
   ],
   "source": [
    "# with label epoch 137\n",
    "cifar_pz = compute_logpz(test_cifar, model)\n",
    "svhn_pz = compute_logpz(test_svhn, model)\n",
    "cifar_train_pz = compute_logpz(train_cifar, model)\n",
    "\n",
    "print(\"CIFAR log p(z)\", torch.mean(cifar_pz))\n",
    "print(\"SVHN log p(z)\", torch.mean(svhn_pz))"
   ]
  },
  {
   "cell_type": "code",
   "execution_count": 11,
   "metadata": {},
   "outputs": [
    {
     "name": "stdout",
     "output_type": "stream",
     "text": [
      "CIFAR log p(z) tensor(-87200.7969)\n",
      "SVHN log p(z) tensor(-222966.2031)\n"
     ]
    }
   ],
   "source": [
    "# without label: pretrained\n",
    "cifar_pz = compute_logpz(test_cifar, model)\n",
    "svhn_pz = compute_logpz(test_svhn, model)\n",
    "\n",
    "print(\"CIFAR log p(z)\", torch.mean(cifar_pz))\n",
    "print(\"SVHN log p(z)\", torch.mean(svhn_pz))"
   ]
  },
  {
   "cell_type": "code",
   "execution_count": 28,
   "metadata": {},
   "outputs": [
    {
     "name": "stdout",
     "output_type": "stream",
     "text": [
      "CIFAR log p(z) tensor(-1091.1681)\n",
      "SVHN log p(z) tensor(-1134.3671)\n"
     ]
    }
   ],
   "source": [
    "# without label: self trained\n",
    "cifar_pz = compute_logpz(test_cifar, model)\n",
    "svhn_pz = compute_logpz(test_svhn, model)\n",
    "\n",
    "print(\"CIFAR log p(z)\", torch.mean(cifar_pz))\n",
    "print(\"SVHN log p(z)\", torch.mean(svhn_pz))"
   ]
  },
  {
   "cell_type": "code",
   "execution_count": 34,
   "metadata": {},
   "outputs": [],
   "source": [
    "cifar_train_pz = compute_logpz(train_cifar, model)"
   ]
  },
  {
   "cell_type": "code",
   "execution_count": 50,
   "metadata": {
    "scrolled": false
   },
   "outputs": [
    {
     "data": {
      "image/png": "[encoded data removed]",
      "text/plain": [
       "<Figure size 432x288 with 1 Axes>"
      ]
     },
     "metadata": {},
     "output_type": "display_data"
    }
   ],
   "source": [
    "plt.figure()\n",
    "plt.title(\"Histogram Glow - trained on CIFAR10\")\n",
    "plt.xlabel(\"Negative bits per dimension\")\n",
    "plt.hist(-svhn_nll.numpy(), label=\"SVHN\", density=True, bins=30)\n",
    "plt.hist(-cifar_nll.numpy(), label=\"CIFAR10\", density=True, bins=50)\n",
    "plt.hist(-cifar_nll_train.numpy(), label=\"CIFAR10-train\", density=True, bins=50)\n",
    "plt.legend()\n",
    "plt.show()"
   ]
  },
  {
   "cell_type": "code",
   "execution_count": 48,
   "metadata": {},
   "outputs": [
    {
     "data": {
      "image/png": "[encoded data removed]",
      "text/plain": [
       "<Figure size 432x288 with 1 Axes>"
      ]
     },
     "metadata": {},
     "output_type": "display_data"
    }
   ],
   "source": [
    "plt.figure()\n",
    "plt.title(\"Histogram Glow - trained on CIFAR10\")\n",
    "plt.xlabel(\"log p(z)\")\n",
    "plt.hist(svhn_pz.numpy(), label=\"SVHN\", density=True, bins=30)\n",
    "plt.hist(cifar_pz.numpy(), label=\"CIFAR10\", density=True, bins=50)\n",
    "plt.hist(cifar_train_pz.numpy(), label=\"CIFAR10-Train\", density=True, bins=50)\n",
    "plt.legend()\n",
    "plt.show()"
   ]
  },
  {
   "cell_type": "code",
   "execution_count": 36,
   "metadata": {},
   "outputs": [
    {
     "data": {
      "image/png": "[encoded data removed]",
      "text/plain": [
       "<Figure size 432x288 with 1 Axes>"
      ]
     },
     "metadata": {},
     "output_type": "display_data"
    }
   ],
   "source": [
    "# no label: self_trained\n",
    "plt.figure()\n",
    "plt.title(\"Histogram Glow - trained on CIFAR10\")\n",
    "plt.xlabel(\"log p(z)\")\n",
    "plt.hist(svhn_pz.numpy(), label=\"SVHN\", density=True, bins=30)\n",
    "plt.hist(cifar_pz.numpy(), label=\"CIFAR10-Test\", density=True, bins=50)\n",
    "plt.hist(cifar_train_pz.numpy(), label=\"CIFAR10-Train\", density=True, bins=50)\n",
    "plt.legend()\n",
    "plt.show()"
   ]
  },
  {
   "cell_type": "markdown",
   "metadata": {},
   "source": [
    "## SVHN"
   ]
  },
  {
   "cell_type": "code",
   "execution_count": 38,
   "metadata": {},
   "outputs": [
    {
     "name": "stdout",
     "output_type": "stream",
     "text": [
      "CIFAR log p(z) tensor(-1154.6949)\n",
      "SVHN log p(z) tensor(-1082.6204)\n"
     ]
    }
   ],
   "source": [
    "# with label: self trained\n",
    "cifar_pz = compute_logpz(test_cifar, model)\n",
    "svhn_pz = compute_logpz(test_svhn, model)\n",
    "svhn_train_pz = compute_logpz(train_svhn, model)\n",
    "\n",
    "print(\"CIFAR log p(z)\", torch.mean(cifar_pz))\n",
    "print(\"SVHN log p(z)\", torch.mean(svhn_pz))"
   ]
  },
  {
   "cell_type": "code",
   "execution_count": 39,
   "metadata": {},
   "outputs": [
    {
     "data": {
      "image/png": "[encoded data removed]",
      "text/plain": [
       "<Figure size 432x288 with 1 Axes>"
      ]
     },
     "metadata": {},
     "output_type": "display_data"
    }
   ],
   "source": [
    "# with label: self_trained\n",
    "plt.figure()\n",
    "plt.title(\"Histogram Glow - trained on CIFAR10\")\n",
    "plt.xlabel(\"log p(z)\")\n",
    "plt.hist(svhn_pz.numpy(), label=\"SVHN\", density=True, bins=30)\n",
    "plt.hist(cifar_pz.numpy(), label=\"CIFAR10-Test\", density=True, bins=50)\n",
    "plt.hist(svhn_train_pz.numpy(), label=\"SVHN-Train\", density=True, bins=50)\n",
    "plt.legend()\n",
    "plt.show()"
   ]
  },
  {
   "cell_type": "code",
   "execution_count": 43,
   "metadata": {},
   "outputs": [
    {
     "name": "stdout",
     "output_type": "stream",
     "text": [
      "CIFAR log p(z) tensor(-1187.5631)\n",
      "SVHN log p(z) tensor(-1088.8761)\n"
     ]
    }
   ],
   "source": [
    "# without label: self trained\n",
    "cifar_pz = compute_logpz(test_cifar, model)\n",
    "svhn_pz = compute_logpz(test_svhn, model)\n",
    "svhn_train_pz = compute_logpz(train_svhn, model)\n",
    "\n",
    "print(\"CIFAR log p(z)\", torch.mean(cifar_pz))\n",
    "print(\"SVHN log p(z)\", torch.mean(svhn_pz))"
   ]
  },
  {
   "cell_type": "code",
   "execution_count": 44,
   "metadata": {
    "collapsed": true
   },
   "outputs": [
    {
     "data": {
      "image/png": "[encoded data removed]",
      "text/plain": [
       "<Figure size 432x288 with 1 Axes>"
      ]
     },
     "metadata": {},
     "output_type": "display_data"
    }
   ],
   "source": [
    "# with label: self_trained\n",
    "plt.figure()\n",
    "plt.title(\"Histogram Glow - trained on CIFAR10\")\n",
    "plt.xlabel(\"log p(z)\")\n",
    "plt.hist(svhn_pz.numpy(), label=\"SVHN\", density=True, bins=30)\n",
    "plt.hist(cifar_pz.numpy(), label=\"CIFAR10-Test\", density=True, bins=50)\n",
    "plt.hist(svhn_train_pz.numpy(), label=\"SVHN-Train\", density=True, bins=50)\n",
    "plt.legend()\n",
    "plt.show()"
   ]
  },
  {
   "cell_type": "code",
   "execution_count": 40,
   "metadata": {},
   "outputs": [
    {
     "data": {
      "text/plain": [
       "torch.Size([50, 50])"
      ]
     },
     "execution_count": 40,
     "metadata": {},
     "output_type": "execute_result"
    }
   ],
   "source": [
    "cifar_pz = torch.randn([50,50])\n",
    "cifar_pz.shape"
   ]
  },
  {
   "cell_type": "code",
   "execution_count": 41,
   "metadata": {},
   "outputs": [
    {
     "name": "stdout",
     "output_type": "stream",
     "text": [
      "torch.Size([50, 50])\n"
     ]
    }
   ],
   "source": [
    "test = torch.zeros(cifar_pz.shape)\n",
    "print(test.shape)"
   ]
  },
  {
   "cell_type": "code",
   "execution_count": null,
   "metadata": {},
   "outputs": [],
   "source": []
  }
 ],
 "metadata": {
  "kernelspec": {
   "display_name": "Python 3",
   "language": "python",
   "name": "python3"
  },
  "language_info": {
   "codemirror_mode": {
    "name": "ipython",
    "version": 3
   },
   "file_extension": ".py",
   "mimetype": "text/x-python",
   "name": "python",
   "nbconvert_exporter": "python",
   "pygments_lexer": "ipython3",
   "version": "3.7.3"
  }
 },
 "nbformat": 4,
 "nbformat_minor": 2
}
